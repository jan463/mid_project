{
 "cells": [
  {
   "cell_type": "code",
   "execution_count": 2,
   "metadata": {},
   "outputs": [],
   "source": [
    "import os\n",
    "import sys\n",
    "import zipfile\n",
    "import subprocess\n",
    "import pandas as pd\n",
    "from datetime import date, timedelta\n",
    "import xgboost as xgb\n",
    "from sklearn.preprocessing import MinMaxScaler\n",
    "import warnings\n",
    "warnings.filterwarnings(\"ignore\")"
   ]
  },
  {
   "cell_type": "code",
   "execution_count": 2,
   "metadata": {},
   "outputs": [],
   "source": [
    "sys.path.append('/Users/jangfeller/Library/Mobile Documents/com~apple~CloudDocs/_Ironhack/projects/mid_project/app/utils/')\n",
    "from functions import get_latest_master, create_ML1_df, create_ML1_df_training, run_xgb"
   ]
  },
  {
   "cell_type": "code",
   "execution_count": 3,
   "metadata": {},
   "outputs": [
    {
     "name": "stdout",
     "output_type": "stream",
     "text": [
      "Dataset URL: https://www.kaggle.com/datasets/benjaminpo/s-and-p-500-with-dividends-and-splits-daily-updated\n",
      "License(s): CC-BY-SA-4.0\n",
      "s-and-p-500-with-dividends-and-splits-daily-updated.zip: Skipping, found more recently modified local copy (use --force to force download)\n"
     ]
    }
   ],
   "source": [
    "step_1 = get_latest_master()"
   ]
  },
  {
   "cell_type": "code",
   "execution_count": 4,
   "metadata": {},
   "outputs": [],
   "source": [
    "ml1 = create_ML1_df(step_1)"
   ]
  },
  {
   "cell_type": "code",
   "execution_count": 5,
   "metadata": {},
   "outputs": [],
   "source": [
    "ml1_training = create_ML1_df_training(step_1)"
   ]
  },
  {
   "cell_type": "code",
   "execution_count": 6,
   "metadata": {},
   "outputs": [],
   "source": [
    "tipps = run_xgb(ml1, ml1_training)"
   ]
  },
  {
   "cell_type": "code",
   "execution_count": null,
   "metadata": {},
   "outputs": [],
   "source": [
    "def run_xgb(df4, df4_training):\n",
    "\n",
    "    \"\"\" creates df with top 20 predicted gains \"\"\"\n",
    "\n",
    "    def XGB_train_real():\n",
    "\n",
    "        # short cleaning\n",
    "        df_x = df4_training.copy().reset_index()\n",
    "        df_x.drop(columns=[\"company\", \"sector\", \"subsector\"], inplace=True)\n",
    "        df_x.set_index(\"date\", inplace=True)\n",
    "        df_x.sort_index(inplace=True)\n",
    "\n",
    "        # training with data only until training_end\n",
    "        xg_df = df_x.copy()\n",
    "\n",
    "        # X y split\n",
    "        X = xg_df.drop(columns=\"price_30d\")\n",
    "        y = xg_df[\"price_30d\"]\n",
    "\n",
    "        # normalization\n",
    "        scaler = MinMaxScaler()\n",
    "        X_scaled = scaler.fit_transform(X)\n",
    "\n",
    "        # train model\n",
    "        xgbr = xgb.XGBRFRegressor()\n",
    "        xgbr.fit(X_scaled, y)\n",
    "\n",
    "        return xgbr\n",
    "\n",
    "\n",
    "\n",
    "    def get_stocks():\n",
    "\n",
    "        \"\"\"\n",
    "        Output: df with top 20 gainers\n",
    "        \"\"\"\n",
    "\n",
    "        yesterday = date.today() - timedelta(days=2)\n",
    "        df_ga = df4.copy()\n",
    "        df_ga.reset_index(inplace=True)\n",
    "        df_ga[\"date\"] = pd.to_datetime(df_ga[\"date\"])\n",
    "        gains_df = pd.DataFrame(columns=[\"company\", \"close\", \"prediction\", \"gain_predicted\"])\n",
    "        df_ga.drop(columns=[\"sector\", \"subsector\"], inplace=True)\n",
    "        df_ga.set_index(\"date\", inplace=True)    \n",
    "        df_ga.sort_index(inplace=True)\n",
    "\n",
    "        xg_df = df_ga.loc[str(yesterday)]\n",
    "        xg_df.sort_index(inplace=True)\n",
    "\n",
    "        X = xg_df.drop(columns=[\"company\"])\n",
    "        scaler = MinMaxScaler()\n",
    "        X_scaled = scaler.fit_transform(X)\n",
    "        pred_xgb = xgbr.predict(X_scaled)\n",
    "        test = xg_df[[\"company\", \"close\"]]\n",
    "        test[\"prediction\"] = pred_xgb\n",
    "        test[\"gain_predicted\"] = (test[\"prediction\"] - test[\"close\"]) / test[\"close\"] * 100\n",
    "        test.sort_values(by=\"gain_predicted\", ascending=False, inplace=True)\n",
    "        test.reset_index()\n",
    "        #test.drop(columns=\"date\")\n",
    "        test.set_index(\"company\")\n",
    "\n",
    "        return test\n",
    "\n",
    "    \n",
    "\n",
    "    xgbr = XGB_train_real()\n",
    "    stocks = get_stocks()\n",
    "    stocks.to_csv(\"top_20.csv\")\n",
    "    return stocks"
   ]
  },
  {
   "cell_type": "code",
   "execution_count": 3,
   "metadata": {},
   "outputs": [],
   "source": [
    "df = pd.read_csv(\"top_20.csv\")"
   ]
  },
  {
   "cell_type": "code",
   "execution_count": 4,
   "metadata": {},
   "outputs": [
    {
     "data": {
      "text/html": [
       "<div>\n",
       "<style scoped>\n",
       "    .dataframe tbody tr th:only-of-type {\n",
       "        vertical-align: middle;\n",
       "    }\n",
       "\n",
       "    .dataframe tbody tr th {\n",
       "        vertical-align: top;\n",
       "    }\n",
       "\n",
       "    .dataframe thead th {\n",
       "        text-align: right;\n",
       "    }\n",
       "</style>\n",
       "<table border=\"1\" class=\"dataframe\">\n",
       "  <thead>\n",
       "    <tr style=\"text-align: right;\">\n",
       "      <th></th>\n",
       "      <th>date</th>\n",
       "      <th>close</th>\n",
       "      <th>company</th>\n",
       "      <th>prediction</th>\n",
       "      <th>gain_predicted</th>\n",
       "    </tr>\n",
       "  </thead>\n",
       "  <tbody>\n",
       "    <tr>\n",
       "      <th>0</th>\n",
       "      <td>2024-12-12</td>\n",
       "      <td>782.349976</td>\n",
       "      <td>LLY</td>\n",
       "      <td>1697.081500</td>\n",
       "      <td>116.921019</td>\n",
       "    </tr>\n",
       "    <tr>\n",
       "      <th>1</th>\n",
       "      <td>2024-12-12</td>\n",
       "      <td>740.969971</td>\n",
       "      <td>REGN</td>\n",
       "      <td>1524.626500</td>\n",
       "      <td>105.760898</td>\n",
       "    </tr>\n",
       "    <tr>\n",
       "      <th>2</th>\n",
       "      <td>2024-12-12</td>\n",
       "      <td>786.590027</td>\n",
       "      <td>URI</td>\n",
       "      <td>1524.626500</td>\n",
       "      <td>93.827332</td>\n",
       "    </tr>\n",
       "    <tr>\n",
       "      <th>3</th>\n",
       "      <td>2024-12-12</td>\n",
       "      <td>925.549988</td>\n",
       "      <td>NFLX</td>\n",
       "      <td>1653.107900</td>\n",
       "      <td>78.608172</td>\n",
       "    </tr>\n",
       "    <tr>\n",
       "      <th>4</th>\n",
       "      <td>2024-12-12</td>\n",
       "      <td>988.390015</td>\n",
       "      <td>COST</td>\n",
       "      <td>1715.096600</td>\n",
       "      <td>73.524270</td>\n",
       "    </tr>\n",
       "    <tr>\n",
       "      <th>...</th>\n",
       "      <td>...</td>\n",
       "      <td>...</td>\n",
       "      <td>...</td>\n",
       "      <td>...</td>\n",
       "      <td>...</td>\n",
       "    </tr>\n",
       "    <tr>\n",
       "      <th>494</th>\n",
       "      <td>2024-12-12</td>\n",
       "      <td>12.490000</td>\n",
       "      <td>WBD</td>\n",
       "      <td>2.845127</td>\n",
       "      <td>-77.220761</td>\n",
       "    </tr>\n",
       "    <tr>\n",
       "      <th>495</th>\n",
       "      <td>2024-12-12</td>\n",
       "      <td>9.730000</td>\n",
       "      <td>WBA</td>\n",
       "      <td>1.264746</td>\n",
       "      <td>-87.001581</td>\n",
       "    </tr>\n",
       "    <tr>\n",
       "      <th>496</th>\n",
       "      <td>2024-12-12</td>\n",
       "      <td>9.990000</td>\n",
       "      <td>AMCR</td>\n",
       "      <td>1.264746</td>\n",
       "      <td>-87.339879</td>\n",
       "    </tr>\n",
       "    <tr>\n",
       "      <th>497</th>\n",
       "      <td>2024-12-12</td>\n",
       "      <td>10.390000</td>\n",
       "      <td>F</td>\n",
       "      <td>1.264746</td>\n",
       "      <td>-87.827276</td>\n",
       "    </tr>\n",
       "    <tr>\n",
       "      <th>498</th>\n",
       "      <td>2024-12-12</td>\n",
       "      <td>11.630000</td>\n",
       "      <td>PARA</td>\n",
       "      <td>1.264746</td>\n",
       "      <td>-89.125141</td>\n",
       "    </tr>\n",
       "  </tbody>\n",
       "</table>\n",
       "<p>499 rows × 5 columns</p>\n",
       "</div>"
      ],
      "text/plain": [
       "           date       close company   prediction  gain_predicted\n",
       "0    2024-12-12  782.349976     LLY  1697.081500      116.921019\n",
       "1    2024-12-12  740.969971    REGN  1524.626500      105.760898\n",
       "2    2024-12-12  786.590027     URI  1524.626500       93.827332\n",
       "3    2024-12-12  925.549988    NFLX  1653.107900       78.608172\n",
       "4    2024-12-12  988.390015    COST  1715.096600       73.524270\n",
       "..          ...         ...     ...          ...             ...\n",
       "494  2024-12-12   12.490000     WBD     2.845127      -77.220761\n",
       "495  2024-12-12    9.730000     WBA     1.264746      -87.001581\n",
       "496  2024-12-12    9.990000    AMCR     1.264746      -87.339879\n",
       "497  2024-12-12   10.390000       F     1.264746      -87.827276\n",
       "498  2024-12-12   11.630000    PARA     1.264746      -89.125141\n",
       "\n",
       "[499 rows x 5 columns]"
      ]
     },
     "execution_count": 4,
     "metadata": {},
     "output_type": "execute_result"
    }
   ],
   "source": [
    "df"
   ]
  },
  {
   "cell_type": "code",
   "execution_count": null,
   "metadata": {},
   "outputs": [],
   "source": []
  },
  {
   "cell_type": "code",
   "execution_count": null,
   "metadata": {},
   "outputs": [],
   "source": []
  },
  {
   "cell_type": "code",
   "execution_count": null,
   "metadata": {},
   "outputs": [],
   "source": []
  },
  {
   "cell_type": "code",
   "execution_count": null,
   "metadata": {},
   "outputs": [],
   "source": []
  },
  {
   "cell_type": "code",
   "execution_count": null,
   "metadata": {},
   "outputs": [],
   "source": []
  }
 ],
 "metadata": {
  "kernelspec": {
   "display_name": "base",
   "language": "python",
   "name": "python3"
  },
  "language_info": {
   "codemirror_mode": {
    "name": "ipython",
    "version": 3
   },
   "file_extension": ".py",
   "mimetype": "text/x-python",
   "name": "python",
   "nbconvert_exporter": "python",
   "pygments_lexer": "ipython3",
   "version": "3.11.7"
  }
 },
 "nbformat": 4,
 "nbformat_minor": 2
}
